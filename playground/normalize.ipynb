{
 "cells": [
  {
   "cell_type": "code",
   "execution_count": 1,
   "metadata": {},
   "outputs": [],
   "source": [
    "import os\n",
    "import pandas as pd\n",
    "import numpy as np\n",
    "import librosa\n",
    "import math\n",
    "import tensorflow as tf\n",
    "from dataset import load_to_dataframe, turn_into_data_for_model, get_sample_rate\n",
    "from model import train_cnn"
   ]
  },
  {
   "cell_type": "code",
   "execution_count": 2,
   "metadata": {},
   "outputs": [],
   "source": [
    "train_data_value = np.load('saved_dataset/40_2048_512_train_data_value.npy')\n",
    "train_data_target = np.load('saved_dataset/40_2048_512_train_data_target.npy')\n",
    "test_data_value = np.load('saved_dataset/40_2048_512_test_data_value.npy')\n",
    "test_data_target = np.load('saved_dataset/40_2048_512_test_data_target.npy')"
   ]
  },
  {
   "cell_type": "code",
   "execution_count": 4,
   "metadata": {},
   "outputs": [
    {
     "data": {
      "text/plain": [
       "(5953, 156, 40)"
      ]
     },
     "execution_count": 4,
     "metadata": {},
     "output_type": "execute_result"
    }
   ],
   "source": [
    "train_data_value.shape"
   ]
  },
  {
   "cell_type": "code",
   "execution_count": 5,
   "metadata": {},
   "outputs": [],
   "source": [
    "from sklearn.preprocessing import StandardScaler\n",
    "scaler = StandardScaler()\n",
    "data_2d = np.reshape(train_data_value, (5953, -1))\n",
    "scaler.fit(data_2d)\n",
    "scaled_data_2d = scaler.transform(data_2d)\n",
    "scaled_data = np.reshape(scaled_data_2d, (5953, 156, 40))"
   ]
  },
  {
   "cell_type": "code",
   "execution_count": null,
   "metadata": {},
   "outputs": [],
   "source": []
  }
 ],
 "metadata": {
  "kernelspec": {
   "display_name": "venv",
   "language": "python",
   "name": "python3"
  },
  "language_info": {
   "codemirror_mode": {
    "name": "ipython",
    "version": 3
   },
   "file_extension": ".py",
   "mimetype": "text/x-python",
   "name": "python",
   "nbconvert_exporter": "python",
   "pygments_lexer": "ipython3",
   "version": "3.10.10"
  },
  "orig_nbformat": 4
 },
 "nbformat": 4,
 "nbformat_minor": 2
}
