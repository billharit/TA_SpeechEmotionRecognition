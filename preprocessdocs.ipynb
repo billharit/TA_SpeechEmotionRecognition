{
 "cells": [
  {
   "cell_type": "code",
   "execution_count": 1,
   "metadata": {},
   "outputs": [],
   "source": [
    "import tensorflow as tf\n",
    "import matplotlib.pyplot as plt\n",
    "import numpy as np\n",
    "import pandas as pd\n",
    "import os\n",
    "import seaborn as sns\n"
   ]
  },
  {
   "cell_type": "code",
   "execution_count": 2,
   "metadata": {},
   "outputs": [
    {
     "name": "stdout",
     "output_type": "stream",
     "text": [
      "CREMA-D_26_1024_256 0.5983881950378418\n",
      "CREMA-D_26_1024_512 0.5963733792304993\n",
      "CREMA-D_26_2048_1024 0.5910006761550903\n",
      "CREMA-D_26_2048_512 0.6171927452087402\n",
      "CREMA-D_26_800_200 0.5520483255386353\n",
      "CREMA-D_26_800_400 0.6051040887832642\n",
      "CREMA-D_40_1024_256 0.6239086389541626\n",
      "CREMA-D_40_1024_512 0.6205506920814514\n",
      "CREMA-D_40_2048_1024 0.6145063638687134\n",
      "CREMA-D_40_2048_512 0.6467427611351013\n",
      "CREMA-D_40_800_200 0.6212223172187805\n",
      "CREMA-D_40_800_400 0.6218938827514648\n",
      "RAVDESS_26_1024_256 0.6889952421188354\n",
      "RAVDESS_26_1024_512 0.7511961460113525\n",
      "RAVDESS_26_2048_1024 0.8277512192726135\n",
      "RAVDESS_26_2048_512 0.7511961460113525\n",
      "RAVDESS_26_800_200 0.660287082195282\n",
      "RAVDESS_26_800_400 0.7703348994255066\n",
      "RAVDESS_40_1024_256 0.7177033424377441\n",
      "RAVDESS_40_1024_512 0.7272727489471436\n",
      "RAVDESS_40_2048_1024 0.7846890091896057\n",
      "RAVDESS_40_2048_512 0.7942583560943604\n",
      "RAVDESS_40_800_200 0.7129186391830444\n",
      "RAVDESS_40_800_400 0.7416267991065979\n",
      "SAVEE_26_1024_256 0.532608687877655\n",
      "SAVEE_26_1024_512 0.6847826242446899\n",
      "SAVEE_26_2048_1024 0.6739130616188049\n",
      "SAVEE_26_2048_512 0.6739130616188049\n",
      "SAVEE_26_800_200 0.6195651888847351\n",
      "SAVEE_26_800_400 0.5978260636329651\n",
      "SAVEE_40_1024_256 0.760869562625885\n",
      "SAVEE_40_1024_512 0.75\n",
      "SAVEE_40_2048_1024 0.760869562625885\n",
      "SAVEE_40_2048_512 0.75\n",
      "SAVEE_40_800_200 0.739130437374115\n",
      "SAVEE_40_800_400 0.739130437374115\n"
     ]
    }
   ],
   "source": [
    "df_list = { \"Name\": [], \"Data\": []}\n",
    "for x in os.listdir(\"preprocess_logs/\"):\n",
    "    df_list[\"Name\"].append(x[:-4])\n",
    "    item_data = pd.read_csv(\"preprocess_logs/{}\".format(x))\n",
    "    df_list[\"Data\"].append(item_data)\n",
    "    print(x[:-4], item_data[\"val_accuracy\"].max())"
   ]
  },
  {
   "cell_type": "code",
   "execution_count": null,
   "metadata": {},
   "outputs": [],
   "source": [
    "df_list = { \"Name\": [], \"Data\": []}\n",
    "for x in os.listdir(\"logbuatvgg16/\"):\n",
    "    df_list[\"Name\"].append(x[:-4])\n",
    "    item_data = pd.read_csv(\"logbuatvgg16/{}\".format(x))\n",
    "    df_list[\"Data\"].append(item_data)\n",
    "    print(x[:-4], item_data[\"val_accuracy\"].max())"
   ]
  }
 ],
 "metadata": {
  "kernelspec": {
   "display_name": "venv",
   "language": "python",
   "name": "python3"
  },
  "language_info": {
   "codemirror_mode": {
    "name": "ipython",
    "version": 3
   },
   "file_extension": ".py",
   "mimetype": "text/x-python",
   "name": "python",
   "nbconvert_exporter": "python",
   "pygments_lexer": "ipython3",
   "version": "3.10.10"
  },
  "orig_nbformat": 4
 },
 "nbformat": 4,
 "nbformat_minor": 2
}
