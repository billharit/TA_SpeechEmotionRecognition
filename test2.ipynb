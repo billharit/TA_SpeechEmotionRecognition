{
 "cells": [
  {
   "cell_type": "code",
   "execution_count": 1,
   "metadata": {},
   "outputs": [],
   "source": [
    "import tensorflow as tf\n",
    "import numpy as np"
   ]
  },
  {
   "cell_type": "code",
   "execution_count": 4,
   "metadata": {},
   "outputs": [],
   "source": [
    "train_data_value = np.load('saved_dataset/crema_d_f32_train_data_value.npy')\n",
    "train_data_target = np.load('saved_dataset/crema_d_f32_train_data_target.npy')\n",
    "test_data_value = np.load(\n",
    "    'saved_dataset/crema_d_f32_test_data_value.npy')\n",
    "test_data_target = np.load('saved_dataset/crema_d_f32_test_data_target.npy')"
   ]
  },
  {
   "cell_type": "code",
   "execution_count": 5,
   "metadata": {},
   "outputs": [],
   "source": [
    "base_model = tf.keras.applications.vgg16.VGG16(\n",
    "    include_top=False, weights=None, input_shape=(train_data_value.shape[1], train_data_value.shape[2], 1))"
   ]
  },
  {
   "cell_type": "code",
   "execution_count": 6,
   "metadata": {},
   "outputs": [
    {
     "name": "stdout",
     "output_type": "stream",
     "text": [
      "Model: \"vgg16\"\n",
      "_________________________________________________________________\n",
      " Layer (type)                Output Shape              Param #   \n",
      "=================================================================\n",
      " input_1 (InputLayer)        [(None, 156, 40, 1)]      0         \n",
      "                                                                 \n",
      " block1_conv1 (Conv2D)       (None, 156, 40, 64)       640       \n",
      "                                                                 \n",
      " block1_conv2 (Conv2D)       (None, 156, 40, 64)       36928     \n",
      "                                                                 \n",
      " block1_pool (MaxPooling2D)  (None, 78, 20, 64)        0         \n",
      "                                                                 \n",
      " block2_conv1 (Conv2D)       (None, 78, 20, 128)       73856     \n",
      "                                                                 \n",
      " block2_conv2 (Conv2D)       (None, 78, 20, 128)       147584    \n",
      "                                                                 \n",
      " block2_pool (MaxPooling2D)  (None, 39, 10, 128)       0         \n",
      "                                                                 \n",
      " block3_conv1 (Conv2D)       (None, 39, 10, 256)       295168    \n",
      "                                                                 \n",
      " block3_conv2 (Conv2D)       (None, 39, 10, 256)       590080    \n",
      "                                                                 \n",
      " block3_conv3 (Conv2D)       (None, 39, 10, 256)       590080    \n",
      "                                                                 \n",
      " block3_pool (MaxPooling2D)  (None, 19, 5, 256)        0         \n",
      "                                                                 \n",
      " block4_conv1 (Conv2D)       (None, 19, 5, 512)        1180160   \n",
      "                                                                 \n",
      " block4_conv2 (Conv2D)       (None, 19, 5, 512)        2359808   \n",
      "                                                                 \n",
      " block4_conv3 (Conv2D)       (None, 19, 5, 512)        2359808   \n",
      "                                                                 \n",
      " block4_pool (MaxPooling2D)  (None, 9, 2, 512)         0         \n",
      "                                                                 \n",
      " block5_conv1 (Conv2D)       (None, 9, 2, 512)         2359808   \n",
      "                                                                 \n",
      " block5_conv2 (Conv2D)       (None, 9, 2, 512)         2359808   \n",
      "                                                                 \n",
      " block5_conv3 (Conv2D)       (None, 9, 2, 512)         2359808   \n",
      "                                                                 \n",
      " block5_pool (MaxPooling2D)  (None, 4, 1, 512)         0         \n",
      "                                                                 \n",
      "=================================================================\n",
      "Total params: 14,713,536\n",
      "Trainable params: 14,713,536\n",
      "Non-trainable params: 0\n",
      "_________________________________________________________________\n"
     ]
    }
   ],
   "source": [
    "base_model.summary()"
   ]
  },
  {
   "cell_type": "code",
   "execution_count": 21,
   "metadata": {},
   "outputs": [
    {
     "name": "stdout",
     "output_type": "stream",
     "text": [
      "block1_conv1 (None, 156, 40, 64) 640\n",
      "block1_conv2 (None, 156, 40, 64) 36928\n",
      "block1_pool (None, 78, 20, 64) 0\n",
      "block2_conv1 (None, 78, 20, 128) 73856\n",
      "block2_conv2 (None, 78, 20, 128) 147584\n",
      "block2_pool (None, 39, 10, 128) 0\n",
      "block3_conv1 (None, 39, 10, 256) 295168\n",
      "block3_conv2 (None, 39, 10, 256) 590080\n",
      "block3_conv3 (None, 39, 10, 256) 590080\n",
      "block3_pool (None, 19, 5, 256) 0\n",
      "block4_conv1 (None, 19, 5, 512) 1180160\n",
      "block4_conv2 (None, 19, 5, 512) 2359808\n",
      "block4_conv3 (None, 19, 5, 512) 2359808\n",
      "block4_pool (None, 9, 2, 512) 0\n",
      "block5_conv1 (None, 9, 2, 512) 2359808\n",
      "block5_conv2 (None, 9, 2, 512) 2359808\n",
      "block5_conv3 (None, 9, 2, 512) 2359808\n",
      "block5_pool (None, 4, 1, 512) 0\n",
      "flatten_3 (None, 2048) 0\n",
      "dense_12 (None, 4096) 8392704\n",
      "dense_13 (None, 4096) 16781312\n",
      "dense_14 (None, 6) 24582\n"
     ]
    }
   ],
   "source": [
    "model = tf.keras.Sequential()\n",
    "for layer in base_model.layers:\n",
    "    model.add(layer)\n",
    "# model.add(base_model)\n",
    "model.add(tf.keras.layers.Flatten())\n",
    "model.add(tf.keras.layers.Dense(4096 , activation=\"relu\"))\n",
    "model.add(tf.keras.layers.Dense(4096 , activation=\"relu\"))\n",
    "# model.add(tf.keras.layers.Dropout(0.2))\n",
    "model.add(tf.keras.layers.Dense(6, activation=\"softmax\"))\n",
    "\n",
    "for layer in model.layers:\n",
    "    print(layer.name, layer.output_shape, layer.count_params())"
   ]
  },
  {
   "cell_type": "code",
   "execution_count": 20,
   "metadata": {},
   "outputs": [
    {
     "name": "stdout",
     "output_type": "stream",
     "text": [
      "Model: \"sequential_5\"\n",
      "_________________________________________________________________\n",
      " Layer (type)                Output Shape              Param #   \n",
      "=================================================================\n",
      " block1_conv1 (Conv2D)       (None, 156, 40, 64)       640       \n",
      "                                                                 \n",
      " block1_conv2 (Conv2D)       (None, 156, 40, 64)       36928     \n",
      "                                                                 \n",
      " block1_pool (MaxPooling2D)  (None, 78, 20, 64)        0         \n",
      "                                                                 \n",
      " block2_conv1 (Conv2D)       (None, 78, 20, 128)       73856     \n",
      "                                                                 \n",
      " block2_conv2 (Conv2D)       (None, 78, 20, 128)       147584    \n",
      "                                                                 \n",
      " block2_pool (MaxPooling2D)  (None, 39, 10, 128)       0         \n",
      "                                                                 \n",
      " block3_conv1 (Conv2D)       (None, 39, 10, 256)       295168    \n",
      "                                                                 \n",
      " block3_conv2 (Conv2D)       (None, 39, 10, 256)       590080    \n",
      "                                                                 \n",
      " block3_conv3 (Conv2D)       (None, 39, 10, 256)       590080    \n",
      "                                                                 \n",
      " block3_pool (MaxPooling2D)  (None, 19, 5, 256)        0         \n",
      "                                                                 \n",
      " block4_conv1 (Conv2D)       (None, 19, 5, 512)        1180160   \n",
      "                                                                 \n",
      " block4_conv2 (Conv2D)       (None, 19, 5, 512)        2359808   \n",
      "                                                                 \n",
      " block4_conv3 (Conv2D)       (None, 19, 5, 512)        2359808   \n",
      "                                                                 \n",
      " block4_pool (MaxPooling2D)  (None, 9, 2, 512)         0         \n",
      "                                                                 \n",
      " block5_conv1 (Conv2D)       (None, 9, 2, 512)         2359808   \n",
      "                                                                 \n",
      " block5_conv2 (Conv2D)       (None, 9, 2, 512)         2359808   \n",
      "                                                                 \n",
      " block5_conv3 (Conv2D)       (None, 9, 2, 512)         2359808   \n",
      "                                                                 \n",
      " block5_pool (MaxPooling2D)  (None, 4, 1, 512)         0         \n",
      "                                                                 \n",
      " flatten_2 (Flatten)         (None, 2048)              0         \n",
      "                                                                 \n",
      " dense_8 (Dense)             (None, 1024)              2098176   \n",
      "                                                                 \n",
      " dense_9 (Dense)             (None, 512)               524800    \n",
      "                                                                 \n",
      " dense_10 (Dense)            (None, 512)               262656    \n",
      "                                                                 \n",
      " dense_11 (Dense)            (None, 6)                 3078      \n",
      "                                                                 \n",
      "=================================================================\n",
      "Total params: 17,602,246\n",
      "Trainable params: 17,602,246\n",
      "Non-trainable params: 0\n",
      "_________________________________________________________________\n"
     ]
    }
   ],
   "source": [
    "model.summary()"
   ]
  },
  {
   "cell_type": "code",
   "execution_count": 12,
   "metadata": {},
   "outputs": [
    {
     "name": "stdout",
     "output_type": "stream",
     "text": [
      "input_1 [(None, 156, 40, 1)] 0\n",
      "block1_conv1 (None, 156, 40, 64) 640\n",
      "block1_conv2 (None, 156, 40, 64) 36928\n",
      "block1_pool (None, 78, 20, 64) 0\n",
      "block2_conv1 (None, 78, 20, 128) 73856\n",
      "block2_conv2 (None, 78, 20, 128) 147584\n",
      "block2_pool (None, 39, 10, 128) 0\n",
      "block3_conv1 (None, 39, 10, 256) 295168\n",
      "block3_conv2 (None, 39, 10, 256) 590080\n",
      "block3_conv3 (None, 39, 10, 256) 590080\n",
      "block3_pool (None, 19, 5, 256) 0\n",
      "block4_conv1 (None, 19, 5, 512) 1180160\n",
      "block4_conv2 (None, 19, 5, 512) 2359808\n",
      "block4_conv3 (None, 19, 5, 512) 2359808\n",
      "block4_pool (None, 9, 2, 512) 0\n",
      "block5_conv1 (None, 9, 2, 512) 2359808\n",
      "block5_conv2 (None, 9, 2, 512) 2359808\n",
      "block5_conv3 (None, 9, 2, 512) 2359808\n",
      "block5_pool (None, 4, 1, 512) 0\n"
     ]
    }
   ],
   "source": [
    "\n",
    "for layer in base_model.layers:\n",
    "    print(layer.name, layer.output_shape, layer.count_params())\n"
   ]
  },
  {
   "cell_type": "code",
   "execution_count": 8,
   "metadata": {},
   "outputs": [
    {
     "data": {
      "text/plain": [
       "(None, 4, 1, 512)"
      ]
     },
     "execution_count": 8,
     "metadata": {},
     "output_type": "execute_result"
    }
   ],
   "source": [
    "base_model.layers:"
   ]
  },
  {
   "cell_type": "code",
   "execution_count": 33,
   "metadata": {},
   "outputs": [],
   "source": [
    "model = tf.keras.Sequential()\n",
    "base_model = tf.keras.applications.resnet_v2.ResNet50V2(\n",
    "    include_top=False, weights=None, input_shape=(train_data_value.shape[1], train_data_value.shape[2], 1))\n",
    "model.add(base_model)\n",
    "model.add(tf.keras.layers.TimeDistributed(tf.keras.layers.Flatten()))\n",
    "model.add(tf.keras.layers.Bidirectional(tf.keras.layers.LSTM(128)))\n",
    "model.add(tf.keras.layers.Dense(6, activation=\"softmax\"))"
   ]
  },
  {
   "cell_type": "code",
   "execution_count": 39,
   "metadata": {},
   "outputs": [
    {
     "name": "stdout",
     "output_type": "stream",
     "text": [
      "input_5 | [(None, 156, 40, 1)] | 0\n",
      "conv1_pad | (None, 162, 46, 1) | 0\n",
      "conv1_conv | (None, 78, 20, 64) | 3200\n",
      "pool1_pad | (None, 80, 22, 64) | 0\n",
      "pool1_pool | (None, 39, 10, 64) | 0\n",
      "conv2_block1_preact_bn | (None, 39, 10, 64) | 256\n",
      "conv2_block1_preact_relu | (None, 39, 10, 64) | 0\n",
      "conv2_block1_1_conv | (None, 39, 10, 64) | 4096\n",
      "conv2_block1_1_bn | (None, 39, 10, 64) | 256\n",
      "conv2_block1_1_relu | (None, 39, 10, 64) | 0\n",
      "conv2_block1_2_pad | (None, 41, 12, 64) | 0\n",
      "conv2_block1_2_conv | (None, 39, 10, 64) | 36864\n",
      "conv2_block1_2_bn | (None, 39, 10, 64) | 256\n",
      "conv2_block1_2_relu | (None, 39, 10, 64) | 0\n",
      "conv2_block1_0_conv | (None, 39, 10, 256) | 16640\n",
      "conv2_block1_3_conv | (None, 39, 10, 256) | 16640\n",
      "conv2_block1_out | (None, 39, 10, 256) | 0\n",
      "conv2_block2_preact_bn | (None, 39, 10, 256) | 1024\n",
      "conv2_block2_preact_relu | (None, 39, 10, 256) | 0\n",
      "conv2_block2_1_conv | (None, 39, 10, 64) | 16384\n",
      "conv2_block2_1_bn | (None, 39, 10, 64) | 256\n",
      "conv2_block2_1_relu | (None, 39, 10, 64) | 0\n",
      "conv2_block2_2_pad | (None, 41, 12, 64) | 0\n",
      "conv2_block2_2_conv | (None, 39, 10, 64) | 36864\n",
      "conv2_block2_2_bn | (None, 39, 10, 64) | 256\n",
      "conv2_block2_2_relu | (None, 39, 10, 64) | 0\n",
      "conv2_block2_3_conv | (None, 39, 10, 256) | 16640\n",
      "conv2_block2_out | (None, 39, 10, 256) | 0\n",
      "conv2_block3_preact_bn | (None, 39, 10, 256) | 1024\n",
      "conv2_block3_preact_relu | (None, 39, 10, 256) | 0\n",
      "conv2_block3_1_conv | (None, 39, 10, 64) | 16384\n",
      "conv2_block3_1_bn | (None, 39, 10, 64) | 256\n",
      "conv2_block3_1_relu | (None, 39, 10, 64) | 0\n",
      "conv2_block3_2_pad | (None, 41, 12, 64) | 0\n",
      "conv2_block3_2_conv | (None, 20, 5, 64) | 36864\n",
      "conv2_block3_2_bn | (None, 20, 5, 64) | 256\n",
      "conv2_block3_2_relu | (None, 20, 5, 64) | 0\n",
      "max_pooling2d_3 | (None, 20, 5, 256) | 0\n",
      "conv2_block3_3_conv | (None, 20, 5, 256) | 16640\n",
      "conv2_block3_out | (None, 20, 5, 256) | 0\n",
      "conv3_block1_preact_bn | (None, 20, 5, 256) | 1024\n",
      "conv3_block1_preact_relu | (None, 20, 5, 256) | 0\n",
      "conv3_block1_1_conv | (None, 20, 5, 128) | 32768\n",
      "conv3_block1_1_bn | (None, 20, 5, 128) | 512\n",
      "conv3_block1_1_relu | (None, 20, 5, 128) | 0\n",
      "conv3_block1_2_pad | (None, 22, 7, 128) | 0\n",
      "conv3_block1_2_conv | (None, 20, 5, 128) | 147456\n",
      "conv3_block1_2_bn | (None, 20, 5, 128) | 512\n",
      "conv3_block1_2_relu | (None, 20, 5, 128) | 0\n",
      "conv3_block1_0_conv | (None, 20, 5, 512) | 131584\n",
      "conv3_block1_3_conv | (None, 20, 5, 512) | 66048\n",
      "conv3_block1_out | (None, 20, 5, 512) | 0\n",
      "conv3_block2_preact_bn | (None, 20, 5, 512) | 2048\n",
      "conv3_block2_preact_relu | (None, 20, 5, 512) | 0\n",
      "conv3_block2_1_conv | (None, 20, 5, 128) | 65536\n",
      "conv3_block2_1_bn | (None, 20, 5, 128) | 512\n",
      "conv3_block2_1_relu | (None, 20, 5, 128) | 0\n",
      "conv3_block2_2_pad | (None, 22, 7, 128) | 0\n",
      "conv3_block2_2_conv | (None, 20, 5, 128) | 147456\n",
      "conv3_block2_2_bn | (None, 20, 5, 128) | 512\n",
      "conv3_block2_2_relu | (None, 20, 5, 128) | 0\n",
      "conv3_block2_3_conv | (None, 20, 5, 512) | 66048\n",
      "conv3_block2_out | (None, 20, 5, 512) | 0\n",
      "conv3_block3_preact_bn | (None, 20, 5, 512) | 2048\n",
      "conv3_block3_preact_relu | (None, 20, 5, 512) | 0\n",
      "conv3_block3_1_conv | (None, 20, 5, 128) | 65536\n",
      "conv3_block3_1_bn | (None, 20, 5, 128) | 512\n",
      "conv3_block3_1_relu | (None, 20, 5, 128) | 0\n",
      "conv3_block3_2_pad | (None, 22, 7, 128) | 0\n",
      "conv3_block3_2_conv | (None, 20, 5, 128) | 147456\n",
      "conv3_block3_2_bn | (None, 20, 5, 128) | 512\n",
      "conv3_block3_2_relu | (None, 20, 5, 128) | 0\n",
      "conv3_block3_3_conv | (None, 20, 5, 512) | 66048\n",
      "conv3_block3_out | (None, 20, 5, 512) | 0\n",
      "conv3_block4_preact_bn | (None, 20, 5, 512) | 2048\n",
      "conv3_block4_preact_relu | (None, 20, 5, 512) | 0\n",
      "conv3_block4_1_conv | (None, 20, 5, 128) | 65536\n",
      "conv3_block4_1_bn | (None, 20, 5, 128) | 512\n",
      "conv3_block4_1_relu | (None, 20, 5, 128) | 0\n",
      "conv3_block4_2_pad | (None, 22, 7, 128) | 0\n",
      "conv3_block4_2_conv | (None, 10, 3, 128) | 147456\n",
      "conv3_block4_2_bn | (None, 10, 3, 128) | 512\n",
      "conv3_block4_2_relu | (None, 10, 3, 128) | 0\n",
      "max_pooling2d_4 | (None, 10, 3, 512) | 0\n",
      "conv3_block4_3_conv | (None, 10, 3, 512) | 66048\n",
      "conv3_block4_out | (None, 10, 3, 512) | 0\n",
      "conv4_block1_preact_bn | (None, 10, 3, 512) | 2048\n",
      "conv4_block1_preact_relu | (None, 10, 3, 512) | 0\n",
      "conv4_block1_1_conv | (None, 10, 3, 256) | 131072\n",
      "conv4_block1_1_bn | (None, 10, 3, 256) | 1024\n",
      "conv4_block1_1_relu | (None, 10, 3, 256) | 0\n",
      "conv4_block1_2_pad | (None, 12, 5, 256) | 0\n",
      "conv4_block1_2_conv | (None, 10, 3, 256) | 589824\n",
      "conv4_block1_2_bn | (None, 10, 3, 256) | 1024\n",
      "conv4_block1_2_relu | (None, 10, 3, 256) | 0\n",
      "conv4_block1_0_conv | (None, 10, 3, 1024) | 525312\n",
      "conv4_block1_3_conv | (None, 10, 3, 1024) | 263168\n",
      "conv4_block1_out | (None, 10, 3, 1024) | 0\n",
      "conv4_block2_preact_bn | (None, 10, 3, 1024) | 4096\n",
      "conv4_block2_preact_relu | (None, 10, 3, 1024) | 0\n",
      "conv4_block2_1_conv | (None, 10, 3, 256) | 262144\n",
      "conv4_block2_1_bn | (None, 10, 3, 256) | 1024\n",
      "conv4_block2_1_relu | (None, 10, 3, 256) | 0\n",
      "conv4_block2_2_pad | (None, 12, 5, 256) | 0\n",
      "conv4_block2_2_conv | (None, 10, 3, 256) | 589824\n",
      "conv4_block2_2_bn | (None, 10, 3, 256) | 1024\n",
      "conv4_block2_2_relu | (None, 10, 3, 256) | 0\n",
      "conv4_block2_3_conv | (None, 10, 3, 1024) | 263168\n",
      "conv4_block2_out | (None, 10, 3, 1024) | 0\n",
      "conv4_block3_preact_bn | (None, 10, 3, 1024) | 4096\n",
      "conv4_block3_preact_relu | (None, 10, 3, 1024) | 0\n",
      "conv4_block3_1_conv | (None, 10, 3, 256) | 262144\n",
      "conv4_block3_1_bn | (None, 10, 3, 256) | 1024\n",
      "conv4_block3_1_relu | (None, 10, 3, 256) | 0\n",
      "conv4_block3_2_pad | (None, 12, 5, 256) | 0\n",
      "conv4_block3_2_conv | (None, 10, 3, 256) | 589824\n",
      "conv4_block3_2_bn | (None, 10, 3, 256) | 1024\n",
      "conv4_block3_2_relu | (None, 10, 3, 256) | 0\n",
      "conv4_block3_3_conv | (None, 10, 3, 1024) | 263168\n",
      "conv4_block3_out | (None, 10, 3, 1024) | 0\n",
      "conv4_block4_preact_bn | (None, 10, 3, 1024) | 4096\n",
      "conv4_block4_preact_relu | (None, 10, 3, 1024) | 0\n",
      "conv4_block4_1_conv | (None, 10, 3, 256) | 262144\n",
      "conv4_block4_1_bn | (None, 10, 3, 256) | 1024\n",
      "conv4_block4_1_relu | (None, 10, 3, 256) | 0\n",
      "conv4_block4_2_pad | (None, 12, 5, 256) | 0\n",
      "conv4_block4_2_conv | (None, 10, 3, 256) | 589824\n",
      "conv4_block4_2_bn | (None, 10, 3, 256) | 1024\n",
      "conv4_block4_2_relu | (None, 10, 3, 256) | 0\n",
      "conv4_block4_3_conv | (None, 10, 3, 1024) | 263168\n",
      "conv4_block4_out | (None, 10, 3, 1024) | 0\n",
      "conv4_block5_preact_bn | (None, 10, 3, 1024) | 4096\n",
      "conv4_block5_preact_relu | (None, 10, 3, 1024) | 0\n",
      "conv4_block5_1_conv | (None, 10, 3, 256) | 262144\n",
      "conv4_block5_1_bn | (None, 10, 3, 256) | 1024\n",
      "conv4_block5_1_relu | (None, 10, 3, 256) | 0\n",
      "conv4_block5_2_pad | (None, 12, 5, 256) | 0\n",
      "conv4_block5_2_conv | (None, 10, 3, 256) | 589824\n",
      "conv4_block5_2_bn | (None, 10, 3, 256) | 1024\n",
      "conv4_block5_2_relu | (None, 10, 3, 256) | 0\n",
      "conv4_block5_3_conv | (None, 10, 3, 1024) | 263168\n",
      "conv4_block5_out | (None, 10, 3, 1024) | 0\n",
      "conv4_block6_preact_bn | (None, 10, 3, 1024) | 4096\n",
      "conv4_block6_preact_relu | (None, 10, 3, 1024) | 0\n",
      "conv4_block6_1_conv | (None, 10, 3, 256) | 262144\n",
      "conv4_block6_1_bn | (None, 10, 3, 256) | 1024\n",
      "conv4_block6_1_relu | (None, 10, 3, 256) | 0\n",
      "conv4_block6_2_pad | (None, 12, 5, 256) | 0\n",
      "conv4_block6_2_conv | (None, 5, 2, 256) | 589824\n",
      "conv4_block6_2_bn | (None, 5, 2, 256) | 1024\n",
      "conv4_block6_2_relu | (None, 5, 2, 256) | 0\n",
      "max_pooling2d_5 | (None, 5, 2, 1024) | 0\n",
      "conv4_block6_3_conv | (None, 5, 2, 1024) | 263168\n",
      "conv4_block6_out | (None, 5, 2, 1024) | 0\n",
      "conv5_block1_preact_bn | (None, 5, 2, 1024) | 4096\n",
      "conv5_block1_preact_relu | (None, 5, 2, 1024) | 0\n",
      "conv5_block1_1_conv | (None, 5, 2, 512) | 524288\n",
      "conv5_block1_1_bn | (None, 5, 2, 512) | 2048\n",
      "conv5_block1_1_relu | (None, 5, 2, 512) | 0\n",
      "conv5_block1_2_pad | (None, 7, 4, 512) | 0\n",
      "conv5_block1_2_conv | (None, 5, 2, 512) | 2359296\n",
      "conv5_block1_2_bn | (None, 5, 2, 512) | 2048\n",
      "conv5_block1_2_relu | (None, 5, 2, 512) | 0\n",
      "conv5_block1_0_conv | (None, 5, 2, 2048) | 2099200\n",
      "conv5_block1_3_conv | (None, 5, 2, 2048) | 1050624\n",
      "conv5_block1_out | (None, 5, 2, 2048) | 0\n",
      "conv5_block2_preact_bn | (None, 5, 2, 2048) | 8192\n",
      "conv5_block2_preact_relu | (None, 5, 2, 2048) | 0\n",
      "conv5_block2_1_conv | (None, 5, 2, 512) | 1048576\n",
      "conv5_block2_1_bn | (None, 5, 2, 512) | 2048\n",
      "conv5_block2_1_relu | (None, 5, 2, 512) | 0\n",
      "conv5_block2_2_pad | (None, 7, 4, 512) | 0\n",
      "conv5_block2_2_conv | (None, 5, 2, 512) | 2359296\n",
      "conv5_block2_2_bn | (None, 5, 2, 512) | 2048\n",
      "conv5_block2_2_relu | (None, 5, 2, 512) | 0\n",
      "conv5_block2_3_conv | (None, 5, 2, 2048) | 1050624\n",
      "conv5_block2_out | (None, 5, 2, 2048) | 0\n",
      "conv5_block3_preact_bn | (None, 5, 2, 2048) | 8192\n",
      "conv5_block3_preact_relu | (None, 5, 2, 2048) | 0\n",
      "conv5_block3_1_conv | (None, 5, 2, 512) | 1048576\n",
      "conv5_block3_1_bn | (None, 5, 2, 512) | 2048\n",
      "conv5_block3_1_relu | (None, 5, 2, 512) | 0\n",
      "conv5_block3_2_pad | (None, 7, 4, 512) | 0\n",
      "conv5_block3_2_conv | (None, 5, 2, 512) | 2359296\n",
      "conv5_block3_2_bn | (None, 5, 2, 512) | 2048\n",
      "conv5_block3_2_relu | (None, 5, 2, 512) | 0\n",
      "conv5_block3_3_conv | (None, 5, 2, 2048) | 1050624\n",
      "conv5_block3_out | (None, 5, 2, 2048) | 0\n",
      "post_bn | (None, 5, 2, 2048) | 8192\n",
      "post_relu | (None, 5, 2, 2048) | 0\n"
     ]
    }
   ],
   "source": [
    "for layer in base_model.layers:\n",
    "    print(layer.name,\"|\", layer.output_shape,\"|\", layer.count_params())"
   ]
  },
  {
   "cell_type": "code",
   "execution_count": 34,
   "metadata": {},
   "outputs": [
    {
     "name": "stdout",
     "output_type": "stream",
     "text": [
      "Model: \"sequential_8\"\n",
      "_________________________________________________________________\n",
      " Layer (type)                Output Shape              Param #   \n",
      "=================================================================\n",
      " resnet50v2 (Functional)     (None, 5, 2, 2048)        23558528  \n",
      "                                                                 \n",
      " time_distributed_1 (TimeDis  (None, 5, 4096)          0         \n",
      " tributed)                                                       \n",
      "                                                                 \n",
      " bidirectional_1 (Bidirectio  (None, 256)              4326400   \n",
      " nal)                                                            \n",
      "                                                                 \n",
      " dense_16 (Dense)            (None, 6)                 1542      \n",
      "                                                                 \n",
      "=================================================================\n",
      "Total params: 27,886,470\n",
      "Trainable params: 27,841,030\n",
      "Non-trainable params: 45,440\n",
      "_________________________________________________________________\n"
     ]
    }
   ],
   "source": [
    "model.summary()"
   ]
  },
  {
   "cell_type": "code",
   "execution_count": 32,
   "metadata": {},
   "outputs": [],
   "source": [
    "def custom_print_fn(line):\n",
    "    separator = ' | '\n",
    "    # print(separator.join(line))\n",
    "    return separator.join(line)\n",
    "model.summary(expand_nested=True, print_fn=custom_print_fn)"
   ]
  },
  {
   "cell_type": "code",
   "execution_count": 2,
   "metadata": {},
   "outputs": [],
   "source": [
    "import librosa"
   ]
  },
  {
   "cell_type": "code",
   "execution_count": 6,
   "metadata": {},
   "outputs": [],
   "source": [
    "audio, sr = librosa.load('E:\\TA-Interface\\DatasetExample\\Bill-Happy.wav', sr=None)"
   ]
  },
  {
   "cell_type": "code",
   "execution_count": 7,
   "metadata": {},
   "outputs": [
    {
     "data": {
      "text/plain": [
       "48000"
      ]
     },
     "execution_count": 7,
     "metadata": {},
     "output_type": "execute_result"
    }
   ],
   "source": [
    "sr"
   ]
  },
  {
   "cell_type": "code",
   "execution_count": 8,
   "metadata": {},
   "outputs": [],
   "source": [
    "audio, sr = librosa.load('E:/TA-Bill/ravdess_dataset/Actor_01/03-01-01-01-01-01-01.wav', sr=None)"
   ]
  },
  {
   "cell_type": "code",
   "execution_count": 9,
   "metadata": {},
   "outputs": [
    {
     "data": {
      "text/plain": [
       "48000"
      ]
     },
     "execution_count": 9,
     "metadata": {},
     "output_type": "execute_result"
    }
   ],
   "source": [
    "sr"
   ]
  },
  {
   "cell_type": "code",
   "execution_count": null,
   "metadata": {},
   "outputs": [],
   "source": []
  }
 ],
 "metadata": {
  "kernelspec": {
   "display_name": "venv",
   "language": "python",
   "name": "python3"
  },
  "language_info": {
   "codemirror_mode": {
    "name": "ipython",
    "version": 3
   },
   "file_extension": ".py",
   "mimetype": "text/x-python",
   "name": "python",
   "nbconvert_exporter": "python",
   "pygments_lexer": "ipython3",
   "version": "3.10.10"
  },
  "orig_nbformat": 4
 },
 "nbformat": 4,
 "nbformat_minor": 2
}
