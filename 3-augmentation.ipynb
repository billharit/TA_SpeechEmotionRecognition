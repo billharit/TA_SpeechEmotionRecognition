{
 "cells": [
  {
   "cell_type": "markdown",
   "metadata": {},
   "source": [
    "# Augmentation"
   ]
  },
  {
   "cell_type": "markdown",
   "metadata": {},
   "source": [
    "## Library"
   ]
  },
  {
   "cell_type": "code",
   "execution_count": null,
   "metadata": {},
   "outputs": [],
   "source": [
    "import numpy as np\n",
    "import librosa\n",
    "import tensorflow as tf\n",
    "from audiomentations import AddGaussianNoise, TimeStretch, PitchShift\n",
    "import shutil\n",
    "import os\n",
    "import soundfile as sf"
   ]
  },
  {
   "cell_type": "markdown",
   "metadata": {},
   "source": [
    "## Define Augmentation"
   ]
  },
  {
   "cell_type": "code",
   "execution_count": null,
   "metadata": {},
   "outputs": [],
   "source": [
    "# Labeling (Just like in Preprocess Notebook)\n",
    "labels = {'DIS': 0, 'HAP': 1, 'SAD': 2,\n",
    "          'NEU': 3, 'FEA': 4, 'ANG': 5}\n",
    "# labels = {'disgust': 0, 'happy': 1, 'sad': 2,\n",
    "#             'neutral': 3, 'fear': 4, 'angry': 5}\n",
    "\n",
    "# Train Path\n",
    "dataset_path = 'dataset/train'\n",
    "\n",
    "# Augmented Path\n",
    "output_path = 'dataset/Augmented'\n",
    "\n",
    "# Define the augmentations\n",
    "augmentations = [\n",
    "    AddGaussianNoise(min_amplitude=0.001, max_amplitude=0.015, p=0.5),\n",
    "    TimeStretch(min_rate=0.8, max_rate=1.25, p=0.5),\n",
    "    PitchShift(min_semitones=-4, max_semitones=4, p=0.5),\n",
    "]"
   ]
  },
  {
   "cell_type": "markdown",
   "metadata": {},
   "source": [
    "## Augment The Audio"
   ]
  },
  {
   "cell_type": "code",
   "execution_count": null,
   "metadata": {},
   "outputs": [],
   "source": [
    "# Define a function to read an audio file and its label, and return the raw audio data and the encoded label\n",
    "def load_audio_file(file_path):\n",
    "    label = os.path.basename(file_path).split('_')[2]\n",
    "    print(label)\n",
    "    label_enc = labels[label]\n",
    "    audio_data, sr = librosa.load(file_path, sr=16000)\n",
    "    return audio_data, label_enc\n",
    "\n",
    "# Create the output directory if it doesn't exist\n",
    "os.makedirs(output_path, exist_ok=True)\n",
    "\n",
    "# Loop through the files in the dataset\n",
    "for file_name in os.listdir(dataset_path):\n",
    "    file_path = os.path.join(dataset_path, file_name)\n",
    "\n",
    "    # Load the audio data and its label\n",
    "    audio_data, label_enc = load_audio_file(file_path)\n",
    "\n",
    "    # Apply each augmentation separately to the audio data\n",
    "    for i, augmentation in enumerate(augmentations):\n",
    "        augmented_data = augmentation(samples=audio_data, sample_rate=16000)\n",
    "\n",
    "        # Save the augmented audio data to a separate folder for each augmentation\n",
    "        output_folder = os.path.join(output_path, f\"{augmentation.__class__.__name__}\")\n",
    "        os.makedirs(output_folder, exist_ok=True)\n",
    "        output_file = os.path.join(output_folder, file_name)\n",
    "        sf.write(output_file, augmented_data, samplerate=16000)"
   ]
  }
 ],
 "metadata": {
  "language_info": {
   "name": "python"
  },
  "orig_nbformat": 4
 },
 "nbformat": 4,
 "nbformat_minor": 2
}
