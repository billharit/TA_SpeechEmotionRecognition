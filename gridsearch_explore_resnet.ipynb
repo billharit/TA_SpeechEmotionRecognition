{
 "cells": [
  {
   "cell_type": "code",
   "execution_count": 1,
   "metadata": {},
   "outputs": [],
   "source": [
    "import pandas as pd\n",
    "import numpy as np\n",
    "import os\n",
    "import matplotlib.pyplot as plt"
   ]
  },
  {
   "cell_type": "code",
   "execution_count": 7,
   "metadata": {},
   "outputs": [
    {
     "name": "stdout",
     "output_type": "stream",
     "text": [
      "resnetadagrad_0001 0.4754869043827057\n",
      "resnetadagrad_001 0.480859637260437\n",
      "resnetadagrad_01 0.4325050413608551\n",
      "resnetadam_0001 0.4271323084831238\n",
      "resnetadam_001 0.4284754991531372\n",
      "resnetadam_01 0.536601722240448\n",
      "resnetrmsprop_0001 0.4560107588768005\n",
      "resnetrmsprop_001 0.4983210265636444\n",
      "resnetrmsprop_01 0.2095365971326828\n",
      "resnetsgd_0001 0.3062458038330078\n",
      "resnetsgd_001 0.2028206884860992\n",
      "resnetsgd_01 0.4002686440944671\n"
     ]
    }
   ],
   "source": [
    "df_list = { \"Name\": [], \"Data\": []}\n",
    "for x in os.listdir(\"resnet_logs\"):\n",
    "    df_list[\"Name\"].append(x[:-4])\n",
    "    item_data = pd.read_csv(\"resnet_logs/{}\".format(x))\n",
    "    df_list[\"Data\"].append(item_data)\n",
    "    print(x[:-4], item_data[\"val_accuracy\"].max())"
   ]
  },
  {
   "cell_type": "code",
   "execution_count": 8,
   "metadata": {},
   "outputs": [
    {
     "name": "stdout",
     "output_type": "stream",
     "text": [
      "resnet_lstmadagrad_0001 0.3364674150943756\n",
      "resnet_lstmadagrad_001 0.2975151240825653\n",
      "resnet_lstmadagrad_01 0.5258562564849854\n",
      "resnet_lstmadam_0001 0.5171256065368652\n",
      "resnet_lstmadam_001 0.3163196742534637\n",
      "resnet_lstmadam_01 0.1712558716535568\n",
      "resnet_lstmrmsprop_0001 0.5386165380477905\n",
      "resnet_lstmrmsprop_001 0.3190060555934906\n",
      "resnet_lstmrmsprop_01 0.1712558716535568\n",
      "resnet_lstmsgd_0001 0.4654130339622497\n",
      "resnet_lstmsgd_001 0.287441223859787\n",
      "resnet_lstmsgd_01 0.3908663392066955\n"
     ]
    }
   ],
   "source": [
    "df_list2 = { \"Name\": [], \"Data\": []}\n",
    "for x in os.listdir(\"resnet_lstm_logs\"):\n",
    "    df_list2[\"Name\"].append(x[:-4])\n",
    "    item_data = pd.read_csv(\"resnet_lstm_logs/{}\".format(x))\n",
    "    df_list2[\"Data\"].append(item_data)\n",
    "    print(x[:-4], item_data[\"val_accuracy\"].max())"
   ]
  },
  {
   "cell_type": "code",
   "execution_count": null,
   "metadata": {},
   "outputs": [],
   "source": []
  }
 ],
 "metadata": {
  "kernelspec": {
   "display_name": "venv",
   "language": "python",
   "name": "python3"
  },
  "language_info": {
   "codemirror_mode": {
    "name": "ipython",
    "version": 3
   },
   "file_extension": ".py",
   "mimetype": "text/x-python",
   "name": "python",
   "nbconvert_exporter": "python",
   "pygments_lexer": "ipython3",
   "version": "3.10.10"
  },
  "orig_nbformat": 4
 },
 "nbformat": 4,
 "nbformat_minor": 2
}
