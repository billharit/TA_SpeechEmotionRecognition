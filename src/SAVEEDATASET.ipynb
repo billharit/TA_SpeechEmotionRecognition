{
 "cells": [
  {
   "cell_type": "code",
   "execution_count": 1,
   "metadata": {},
   "outputs": [],
   "source": [
    "import numpy as np\n",
    "import librosa\n",
    "import tensorflow as tf\n",
    "from audiomentations import AddGaussianNoise, TimeStretch, PitchShift\n",
    "import shutil\n",
    "import os\n",
    "import soundfile as sf"
   ]
  },
  {
   "cell_type": "code",
   "execution_count": 2,
   "metadata": {},
   "outputs": [],
   "source": [
    "file_list = os.listdir(\"SAVEEE\")\n",
    "for file in file_list:\n",
    "    x = file.split(\"_\")[1]\n",
    "    "
   ]
  },
  {
   "cell_type": "code",
   "execution_count": 29,
   "metadata": {},
   "outputs": [],
   "source": [
    "labels = {'d': 0, 'h': 1, 's': 2,\n",
    "          'n': 3, 'f': 4, 'a': 5}\n",
    "\n",
    "dataset_path = 'SAVEEE'\n",
    "output_path = 'SaveeDataset/Augmented/22050'\n",
    "\n",
    "augmentations = [\n",
    "    AddGaussianNoise(min_amplitude=0.001, max_amplitude=0.015, p=0.5),\n",
    "    TimeStretch(min_rate=0.8, max_rate=1.25, p=0.5),\n",
    "    PitchShift(min_semitones=-4, max_semitones=4, p=0.5),\n",
    "]\n",
    "\n",
    "for file in os.listdir(dataset_path):\n",
    "    file_path = os.path.join(dataset_path, file)\n",
    "    # print(file)\n",
    "    label = labels[file[3]]\n",
    "    audio_data, sr = librosa.load(file_path, sr=22050)\n",
    "    audio_sample_rate = librosa.get_samplerate(file_path) \n",
    "\n",
    "    for i, augmentation in enumerate(augmentations):\n",
    "        augmented_data = augmentation(samples=audio_data, sample_rate=22050)\n",
    "\n",
    "        output_folder = os.path.join(output_path, f\"{augmentation.__class__.__name__}\")\n",
    "        os.makedirs(output_folder, exist_ok=True)\n",
    "        output_file = os.path.join(output_folder, file)\n",
    "        sf.write(output_file, augmented_data, samplerate=22050)\n",
    "\n",
    "\n"
   ]
  },
  {
   "cell_type": "code",
   "execution_count": 11,
   "metadata": {},
   "outputs": [
    {
     "name": "stdout",
     "output_type": "stream",
     "text": [
      "a02.wav\n"
     ]
    }
   ],
   "source": [
    "print(file_list[1].split('_')[1])"
   ]
  },
  {
   "cell_type": "code",
   "execution_count": 16,
   "metadata": {},
   "outputs": [
    {
     "data": {
      "text/plain": [
       "2"
      ]
     },
     "execution_count": 16,
     "metadata": {},
     "output_type": "execute_result"
    }
   ],
   "source": [
    "labels = {'d': 0, 'h': 1, 's': 2,\n",
    "          'n': 3, 'f': 4, 'a': 5}\n",
    "labels[file_list[90][3]]"
   ]
  },
  {
   "cell_type": "code",
   "execution_count": 3,
   "metadata": {},
   "outputs": [],
   "source": [
    "import random\n",
    "dataset_path = 'SAVEEE'\n",
    "data_list = os.listdir(dataset_path)\n",
    "train_files = []\n",
    "test_files = []\n",
    "\n",
    "labels = {'d': 0, 'h': 1, 's': 2,\n",
    "          'n': 3, 'f': 4, 'a': 5}\n",
    "\n",
    "train_data_sentiment_path = []\n",
    "train_data_sentiment_value = []\n",
    "train_data_sentiment_encoded_value = []\n",
    "\n",
    "test_data_sentiment_path = []\n",
    "test_data_sentiment_value = []\n",
    "test_data_sentiment_encoded_value = []\n",
    "\n",
    "# Later, restore the random state from the file\n",
    "with open('random_state_savee.txt', 'r') as file:\n",
    "    random_state = eval(file.read())\n",
    "\n",
    "    # Set the restored random state\n",
    "random.setstate(random_state)\n",
    "\n",
    "# import random\n",
    "random.seed(1234)\n",
    "for file_path in data_list:\n",
    "    if random.random() < 0.8:\n",
    "        train_files.append(file_path)\n",
    "    else:\n",
    "        test_files.append(file_path)\n",
    "\n",
    "for file in train_files:\n",
    "    file_path = os.path.join(dataset_path, file)\n",
    "    # print(file_path)\n",
    "    train_data_sentiment_path.append(file_path)\n",
    "    train_data_sentiment_value.append(file[3])\n",
    "    train_data_sentiment_encoded_value.append(labels[file[3]])\n",
    "\n",
    "for file in test_files:\n",
    "    file_path = os.path.join(dataset_path, file)\n",
    "    # print(file_path)\n",
    "    test_data_sentiment_path.append(file_path)\n",
    "    test_data_sentiment_value.append(file[3])\n",
    "    test_data_sentiment_encoded_value.append(labels[file[3]])\n",
    "\n",
    "# num_mfcc = 40\n",
    "# # SAMPLE_RATE = librosa.get_samplerate(train_data_sentiment_path[0])\n",
    "# SAMPLE_RATE = 22050\n",
    "# n_fft = 2048\n",
    "# hop_length = 512\n",
    "\n",
    "# train_data = {\n",
    "#     \"labels\": [],\n",
    "#     \"mfcc\": []\n",
    "# }\n",
    "\n",
    "# test_data = {\n",
    "#     \"labels\": [],\n",
    "#     \"mfcc\": []\n",
    "# }\n",
    "\n",
    "# for path, value in zip(train_data_sentiment_path, train_data_sentiment_encoded_value):\n",
    "#     # print(path)\n",
    "#     signal, sample_rate = librosa.load(path, sr=SAMPLE_RATE)\n",
    "#     mfcc = librosa.feature.mfcc(\n",
    "#         y=signal, sr=SAMPLE_RATE, n_mfcc=num_mfcc, n_fft=n_fft, hop_length=hop_length)\n",
    "#     mfcc = mfcc.T\n",
    "    \n",
    "#     train_data['labels'].append(value)\n",
    "#     train_data[\"mfcc\"].append(np.asarray(mfcc))\n",
    "\n",
    "# for path, value in zip(test_data_sentiment_path, test_data_sentiment_encoded_value):\n",
    "#     # print(path)\n",
    "#     signal, sample_rate = librosa.load(path, sr=SAMPLE_RATE)\n",
    "#     mfcc = librosa.feature.mfcc(\n",
    "#         y=signal, sr=SAMPLE_RATE, n_mfcc=num_mfcc, n_fft=n_fft, hop_length=hop_length)\n",
    "#     mfcc = mfcc.T\n",
    "    \n",
    "#     test_data['labels'].append(value)\n",
    "#     test_data[\"mfcc\"].append(np.asarray(mfcc))\n",
    "\n",
    "# processed_data_value = np.asarray(train_data['mfcc'])\n",
    "# processed_data_target = np.asarray(train_data[\"labels\"])\n",
    "# processed_test_value = np.asarray(test_data['mfcc'])\n",
    "# processed_test_target = np.asarray(test_data[\"labels\"])\n",
    "\n",
    "# padded_data_value = tf.keras.preprocessing.sequence.pad_sequences(\n",
    "#     processed_data_value, maxlen=615 ,dtype=\"float32\")\n",
    "# padded_test_value = tf.keras.preprocessing.sequence.pad_sequences(\n",
    "#     processed_test_value, maxlen=615 ,dtype=\"float32\")\n",
    "\n",
    "# np.save('saved_dataset/saveeFix/savee_data.npy', padded_data_value)\n",
    "# np.save('saved_dataset/saveeFix/savee_data_target.npy', processed_data_target)\n",
    "# np.save('saved_dataset/saveeFix/savee_test.npy', padded_test_value)\n",
    "# np.save('saved_dataset/saveeFix/savee_test_target.npy', processed_test_target)\n"
   ]
  },
  {
   "cell_type": "code",
   "execution_count": 35,
   "metadata": {},
   "outputs": [],
   "source": [
    "padded_data_value = tf.keras.preprocessing.sequence.pad_sequences(\n",
    "    processed_data_value, maxlen=308 ,dtype=\"float32\")\n",
    "padded_test_value = tf.keras.preprocessing.sequence.pad_sequences(\n",
    "    processed_test_value, maxlen=308 ,dtype=\"float32\")\n",
    "\n",
    "np.save('saved_dataset/saveeFix/standardSR_savee_data.npy', padded_data_value)\n",
    "np.save('saved_dataset/saveeFix/standardSR_savee_data_target.npy', processed_data_target)\n",
    "np.save('saved_dataset/saveeFix/standardSR_savee_test.npy', padded_test_value)\n",
    "np.save('saved_dataset/saveeFix/standardSR_savee_test_target.npy', processed_test_target)"
   ]
  },
  {
   "cell_type": "code",
   "execution_count": 5,
   "metadata": {},
   "outputs": [
    {
     "name": "stdout",
     "output_type": "stream",
     "text": [
      "SAVEEE\\DC_a02.wav\n",
      "SAVEEE\\DC_a03.wav\n",
      "SAVEEE\\DC_a06.wav\n",
      "SAVEEE\\DC_a07.wav\n",
      "SAVEEE\\DC_a08.wav\n",
      "SAVEEE\\DC_a09.wav\n",
      "SAVEEE\\DC_a10.wav\n",
      "SAVEEE\\DC_a11.wav\n",
      "SAVEEE\\DC_a12.wav\n",
      "SAVEEE\\DC_a13.wav\n",
      "SAVEEE\\DC_a14.wav\n",
      "SAVEEE\\DC_a15.wav\n",
      "SAVEEE\\DC_d01.wav\n",
      "SAVEEE\\DC_d02.wav\n",
      "SAVEEE\\DC_d03.wav\n",
      "SAVEEE\\DC_d04.wav\n",
      "SAVEEE\\DC_d05.wav\n",
      "SAVEEE\\DC_d07.wav\n",
      "SAVEEE\\DC_d08.wav\n",
      "SAVEEE\\DC_d09.wav\n",
      "SAVEEE\\DC_d10.wav\n",
      "SAVEEE\\DC_d11.wav\n",
      "SAVEEE\\DC_d12.wav\n",
      "SAVEEE\\DC_d13.wav\n",
      "SAVEEE\\DC_d14.wav\n",
      "SAVEEE\\DC_d15.wav\n",
      "SAVEEE\\DC_f01.wav\n",
      "SAVEEE\\DC_f02.wav\n",
      "SAVEEE\\DC_f03.wav\n",
      "SAVEEE\\DC_f05.wav\n",
      "SAVEEE\\DC_f06.wav\n",
      "SAVEEE\\DC_f07.wav\n",
      "SAVEEE\\DC_f08.wav\n",
      "SAVEEE\\DC_f09.wav\n",
      "SAVEEE\\DC_f10.wav\n",
      "SAVEEE\\DC_f11.wav\n",
      "SAVEEE\\DC_f12.wav\n",
      "SAVEEE\\DC_f13.wav\n",
      "SAVEEE\\DC_f14.wav\n",
      "SAVEEE\\DC_f15.wav\n",
      "SAVEEE\\DC_h01.wav\n",
      "SAVEEE\\DC_h02.wav\n",
      "SAVEEE\\DC_h04.wav\n",
      "SAVEEE\\DC_h06.wav\n",
      "SAVEEE\\DC_h07.wav\n",
      "SAVEEE\\DC_h08.wav\n",
      "SAVEEE\\DC_h09.wav\n",
      "SAVEEE\\DC_h11.wav\n",
      "SAVEEE\\DC_h12.wav\n",
      "SAVEEE\\DC_h14.wav\n",
      "SAVEEE\\DC_n01.wav\n",
      "SAVEEE\\DC_n02.wav\n",
      "SAVEEE\\DC_n03.wav\n",
      "SAVEEE\\DC_n04.wav\n",
      "SAVEEE\\DC_n06.wav\n",
      "SAVEEE\\DC_n07.wav\n",
      "SAVEEE\\DC_n08.wav\n",
      "SAVEEE\\DC_n11.wav\n",
      "SAVEEE\\DC_n12.wav\n",
      "SAVEEE\\DC_n14.wav\n",
      "SAVEEE\\DC_n15.wav\n",
      "SAVEEE\\DC_n16.wav\n",
      "SAVEEE\\DC_n17.wav\n",
      "SAVEEE\\DC_n18.wav\n",
      "SAVEEE\\DC_n19.wav\n",
      "SAVEEE\\DC_n21.wav\n",
      "SAVEEE\\DC_n23.wav\n",
      "SAVEEE\\DC_n24.wav\n",
      "SAVEEE\\DC_n25.wav\n",
      "SAVEEE\\DC_n26.wav\n",
      "SAVEEE\\DC_n28.wav\n",
      "SAVEEE\\DC_n30.wav\n",
      "SAVEEE\\DC_sa01.wav\n",
      "SAVEEE\\DC_sa03.wav\n",
      "SAVEEE\\DC_sa04.wav\n",
      "SAVEEE\\DC_sa05.wav\n",
      "SAVEEE\\DC_sa06.wav\n",
      "SAVEEE\\DC_sa07.wav\n",
      "SAVEEE\\DC_sa08.wav\n",
      "SAVEEE\\DC_sa09.wav\n",
      "SAVEEE\\DC_sa10.wav\n",
      "SAVEEE\\DC_sa11.wav\n",
      "SAVEEE\\DC_sa12.wav\n",
      "SAVEEE\\DC_sa14.wav\n",
      "SAVEEE\\DC_sa15.wav\n",
      "SAVEEE\\JE_a02.wav\n",
      "SAVEEE\\JE_a03.wav\n",
      "SAVEEE\\JE_a04.wav\n",
      "SAVEEE\\JE_a05.wav\n",
      "SAVEEE\\JE_a06.wav\n",
      "SAVEEE\\JE_a07.wav\n",
      "SAVEEE\\JE_a08.wav\n",
      "SAVEEE\\JE_a10.wav\n",
      "SAVEEE\\JE_a12.wav\n",
      "SAVEEE\\JE_a14.wav\n",
      "SAVEEE\\JE_a15.wav\n",
      "SAVEEE\\JE_d01.wav\n",
      "SAVEEE\\JE_d02.wav\n",
      "SAVEEE\\JE_d03.wav\n",
      "SAVEEE\\JE_d05.wav\n",
      "SAVEEE\\JE_d06.wav\n",
      "SAVEEE\\JE_d07.wav\n",
      "SAVEEE\\JE_d08.wav\n",
      "SAVEEE\\JE_d09.wav\n",
      "SAVEEE\\JE_d10.wav\n",
      "SAVEEE\\JE_d11.wav\n",
      "SAVEEE\\JE_d14.wav\n",
      "SAVEEE\\JE_d15.wav\n",
      "SAVEEE\\JE_f01.wav\n",
      "SAVEEE\\JE_f02.wav\n",
      "SAVEEE\\JE_f03.wav\n",
      "SAVEEE\\JE_f04.wav\n",
      "SAVEEE\\JE_f05.wav\n",
      "SAVEEE\\JE_f06.wav\n",
      "SAVEEE\\JE_f07.wav\n",
      "SAVEEE\\JE_f08.wav\n",
      "SAVEEE\\JE_f09.wav\n",
      "SAVEEE\\JE_f11.wav\n",
      "SAVEEE\\JE_f14.wav\n",
      "SAVEEE\\JE_h01.wav\n",
      "SAVEEE\\JE_h02.wav\n",
      "SAVEEE\\JE_h05.wav\n",
      "SAVEEE\\JE_h06.wav\n",
      "SAVEEE\\JE_h07.wav\n",
      "SAVEEE\\JE_h09.wav\n",
      "SAVEEE\\JE_h10.wav\n",
      "SAVEEE\\JE_h11.wav\n",
      "SAVEEE\\JE_h12.wav\n",
      "SAVEEE\\JE_h13.wav\n",
      "SAVEEE\\JE_h14.wav\n",
      "SAVEEE\\JE_h15.wav\n",
      "SAVEEE\\JE_n02.wav\n",
      "SAVEEE\\JE_n03.wav\n",
      "SAVEEE\\JE_n04.wav\n",
      "SAVEEE\\JE_n05.wav\n",
      "SAVEEE\\JE_n06.wav\n",
      "SAVEEE\\JE_n07.wav\n",
      "SAVEEE\\JE_n08.wav\n",
      "SAVEEE\\JE_n09.wav\n",
      "SAVEEE\\JE_n10.wav\n",
      "SAVEEE\\JE_n11.wav\n",
      "SAVEEE\\JE_n12.wav\n",
      "SAVEEE\\JE_n13.wav\n",
      "SAVEEE\\JE_n14.wav\n",
      "SAVEEE\\JE_n15.wav\n",
      "SAVEEE\\JE_n16.wav\n",
      "SAVEEE\\JE_n17.wav\n",
      "SAVEEE\\JE_n19.wav\n",
      "SAVEEE\\JE_n20.wav\n",
      "SAVEEE\\JE_n21.wav\n",
      "SAVEEE\\JE_n23.wav\n",
      "SAVEEE\\JE_n24.wav\n",
      "SAVEEE\\JE_n25.wav\n",
      "SAVEEE\\JE_n26.wav\n",
      "SAVEEE\\JE_n27.wav\n",
      "SAVEEE\\JE_n28.wav\n",
      "SAVEEE\\JE_n29.wav\n",
      "SAVEEE\\JE_sa01.wav\n",
      "SAVEEE\\JE_sa03.wav\n",
      "SAVEEE\\JE_sa05.wav\n",
      "SAVEEE\\JE_sa06.wav\n",
      "SAVEEE\\JE_sa07.wav\n",
      "SAVEEE\\JE_sa09.wav\n",
      "SAVEEE\\JE_sa10.wav\n",
      "SAVEEE\\JE_sa12.wav\n",
      "SAVEEE\\JE_sa13.wav\n",
      "SAVEEE\\JE_sa14.wav\n",
      "SAVEEE\\JE_sa15.wav\n",
      "SAVEEE\\JK_a01.wav\n",
      "SAVEEE\\JK_a02.wav\n",
      "SAVEEE\\JK_a03.wav\n",
      "SAVEEE\\JK_a04.wav\n",
      "SAVEEE\\JK_a05.wav\n",
      "SAVEEE\\JK_a06.wav\n",
      "SAVEEE\\JK_a08.wav\n",
      "SAVEEE\\JK_a09.wav\n",
      "SAVEEE\\JK_a10.wav\n",
      "SAVEEE\\JK_a11.wav\n",
      "SAVEEE\\JK_a14.wav\n",
      "SAVEEE\\JK_d01.wav\n",
      "SAVEEE\\JK_d02.wav\n",
      "SAVEEE\\JK_d03.wav\n",
      "SAVEEE\\JK_d04.wav\n",
      "SAVEEE\\JK_d05.wav\n",
      "SAVEEE\\JK_d06.wav\n",
      "SAVEEE\\JK_d07.wav\n",
      "SAVEEE\\JK_d09.wav\n",
      "SAVEEE\\JK_d10.wav\n",
      "SAVEEE\\JK_d11.wav\n",
      "SAVEEE\\JK_d13.wav\n",
      "SAVEEE\\JK_d14.wav\n",
      "SAVEEE\\JK_d15.wav\n",
      "SAVEEE\\JK_f01.wav\n",
      "SAVEEE\\JK_f02.wav\n",
      "SAVEEE\\JK_f05.wav\n",
      "SAVEEE\\JK_f06.wav\n",
      "SAVEEE\\JK_f07.wav\n",
      "SAVEEE\\JK_f08.wav\n",
      "SAVEEE\\JK_f10.wav\n",
      "SAVEEE\\JK_f11.wav\n",
      "SAVEEE\\JK_f12.wav\n",
      "SAVEEE\\JK_f13.wav\n",
      "SAVEEE\\JK_f14.wav\n",
      "SAVEEE\\JK_h01.wav\n",
      "SAVEEE\\JK_h02.wav\n",
      "SAVEEE\\JK_h03.wav\n",
      "SAVEEE\\JK_h04.wav\n",
      "SAVEEE\\JK_h05.wav\n",
      "SAVEEE\\JK_h06.wav\n",
      "SAVEEE\\JK_h07.wav\n",
      "SAVEEE\\JK_h09.wav\n",
      "SAVEEE\\JK_h10.wav\n",
      "SAVEEE\\JK_h12.wav\n",
      "SAVEEE\\JK_h13.wav\n",
      "SAVEEE\\JK_h14.wav\n",
      "SAVEEE\\JK_n01.wav\n",
      "SAVEEE\\JK_n03.wav\n",
      "SAVEEE\\JK_n04.wav\n",
      "SAVEEE\\JK_n05.wav\n",
      "SAVEEE\\JK_n06.wav\n",
      "SAVEEE\\JK_n07.wav\n",
      "SAVEEE\\JK_n08.wav\n",
      "SAVEEE\\JK_n09.wav\n",
      "SAVEEE\\JK_n11.wav\n",
      "SAVEEE\\JK_n12.wav\n",
      "SAVEEE\\JK_n13.wav\n",
      "SAVEEE\\JK_n14.wav\n",
      "SAVEEE\\JK_n15.wav\n",
      "SAVEEE\\JK_n17.wav\n",
      "SAVEEE\\JK_n18.wav\n",
      "SAVEEE\\JK_n19.wav\n",
      "SAVEEE\\JK_n20.wav\n",
      "SAVEEE\\JK_n21.wav\n",
      "SAVEEE\\JK_n22.wav\n",
      "SAVEEE\\JK_n24.wav\n",
      "SAVEEE\\JK_n25.wav\n",
      "SAVEEE\\JK_n26.wav\n",
      "SAVEEE\\JK_n27.wav\n",
      "SAVEEE\\JK_n29.wav\n",
      "SAVEEE\\JK_n30.wav\n",
      "SAVEEE\\JK_sa02.wav\n",
      "SAVEEE\\JK_sa03.wav\n",
      "SAVEEE\\JK_sa04.wav\n",
      "SAVEEE\\JK_sa05.wav\n",
      "SAVEEE\\JK_sa06.wav\n",
      "SAVEEE\\JK_sa07.wav\n",
      "SAVEEE\\JK_sa08.wav\n",
      "SAVEEE\\JK_sa09.wav\n",
      "SAVEEE\\JK_sa11.wav\n",
      "SAVEEE\\JK_sa12.wav\n",
      "SAVEEE\\JK_sa14.wav\n",
      "SAVEEE\\JK_sa15.wav\n",
      "SAVEEE\\KL_a01.wav\n",
      "SAVEEE\\KL_a02.wav\n",
      "SAVEEE\\KL_a03.wav\n",
      "SAVEEE\\KL_a05.wav\n",
      "SAVEEE\\KL_a06.wav\n",
      "SAVEEE\\KL_a07.wav\n",
      "SAVEEE\\KL_a11.wav\n",
      "SAVEEE\\KL_a12.wav\n",
      "SAVEEE\\KL_a13.wav\n",
      "SAVEEE\\KL_a14.wav\n",
      "SAVEEE\\KL_d01.wav\n",
      "SAVEEE\\KL_d03.wav\n",
      "SAVEEE\\KL_d05.wav\n",
      "SAVEEE\\KL_d06.wav\n",
      "SAVEEE\\KL_d07.wav\n",
      "SAVEEE\\KL_d09.wav\n",
      "SAVEEE\\KL_d10.wav\n",
      "SAVEEE\\KL_d12.wav\n",
      "SAVEEE\\KL_d13.wav\n",
      "SAVEEE\\KL_d14.wav\n",
      "SAVEEE\\KL_f02.wav\n",
      "SAVEEE\\KL_f03.wav\n",
      "SAVEEE\\KL_f04.wav\n",
      "SAVEEE\\KL_f05.wav\n",
      "SAVEEE\\KL_f06.wav\n",
      "SAVEEE\\KL_f07.wav\n",
      "SAVEEE\\KL_f08.wav\n",
      "SAVEEE\\KL_f09.wav\n",
      "SAVEEE\\KL_f10.wav\n",
      "SAVEEE\\KL_f12.wav\n",
      "SAVEEE\\KL_f13.wav\n",
      "SAVEEE\\KL_f14.wav\n",
      "SAVEEE\\KL_f15.wav\n",
      "SAVEEE\\KL_h01.wav\n",
      "SAVEEE\\KL_h04.wav\n",
      "SAVEEE\\KL_h05.wav\n",
      "SAVEEE\\KL_h06.wav\n",
      "SAVEEE\\KL_h07.wav\n",
      "SAVEEE\\KL_h09.wav\n",
      "SAVEEE\\KL_h10.wav\n",
      "SAVEEE\\KL_h11.wav\n",
      "SAVEEE\\KL_h12.wav\n",
      "SAVEEE\\KL_h13.wav\n",
      "SAVEEE\\KL_h14.wav\n",
      "SAVEEE\\KL_h15.wav\n",
      "SAVEEE\\KL_n01.wav\n",
      "SAVEEE\\KL_n03.wav\n",
      "SAVEEE\\KL_n04.wav\n",
      "SAVEEE\\KL_n05.wav\n",
      "SAVEEE\\KL_n06.wav\n",
      "SAVEEE\\KL_n07.wav\n",
      "SAVEEE\\KL_n08.wav\n",
      "SAVEEE\\KL_n11.wav\n",
      "SAVEEE\\KL_n13.wav\n",
      "SAVEEE\\KL_n15.wav\n",
      "SAVEEE\\KL_n16.wav\n",
      "SAVEEE\\KL_n19.wav\n",
      "SAVEEE\\KL_n21.wav\n",
      "SAVEEE\\KL_n22.wav\n",
      "SAVEEE\\KL_n24.wav\n",
      "SAVEEE\\KL_n25.wav\n",
      "SAVEEE\\KL_n26.wav\n",
      "SAVEEE\\KL_n27.wav\n",
      "SAVEEE\\KL_n28.wav\n",
      "SAVEEE\\KL_n29.wav\n",
      "SAVEEE\\KL_sa01.wav\n",
      "SAVEEE\\KL_sa02.wav\n",
      "SAVEEE\\KL_sa03.wav\n",
      "SAVEEE\\KL_sa04.wav\n",
      "SAVEEE\\KL_sa05.wav\n",
      "SAVEEE\\KL_sa08.wav\n",
      "SAVEEE\\KL_sa09.wav\n",
      "SAVEEE\\KL_sa12.wav\n",
      "SAVEEE\\KL_sa13.wav\n",
      "SAVEEE\\KL_sa14.wav\n",
      "SAVEEE\\KL_sa15.wav\n"
     ]
    },
    {
     "name": "stderr",
     "output_type": "stream",
     "text": [
      "C:\\Users\\USER\\AppData\\Local\\Temp\\ipykernel_3404\\1301487027.py:47: VisibleDeprecationWarning: Creating an ndarray from ragged nested sequences (which is a list-or-tuple of lists-or-tuples-or ndarrays with different lengths or shapes) is deprecated. If you meant to do this, you must specify 'dtype=object' when creating the ndarray.\n",
      "  processed_data_value = np.asarray(train_data['mfcc'])\n"
     ]
    }
   ],
   "source": [
    "num_mfcc = 40\n",
    "# SAMPLE_RATE = librosa.get_samplerate(train_data_sentiment_path[0])\n",
    "SAMPLE_RATE = 22050\n",
    "n_fft = 2048\n",
    "hop_length = 512\n",
    "\n",
    "\n",
    "train_data = {\n",
    "    \"labels\": [],\n",
    "    \"mfcc\": []\n",
    "}\n",
    "\n",
    "test_data = {\n",
    "    \"labels\": [],\n",
    "    \"mfcc\": []\n",
    "}\n",
    "\n",
    "for path, value in zip(train_data_sentiment_path, train_data_sentiment_encoded_value):\n",
    "    signal, sample_rate = librosa.load(path)\n",
    "    mfcc = librosa.feature.mfcc(\n",
    "        y=signal, sr=SAMPLE_RATE, n_mfcc=num_mfcc, n_fft=n_fft, hop_length=hop_length)\n",
    "    mfcc = mfcc.T\n",
    "    \n",
    "    train_data['labels'].append(value)\n",
    "    train_data[\"mfcc\"].append(np.asarray(mfcc))\n",
    "    # print(path)\n",
    "    AugmentType = \"TimeStretch\"\n",
    "    signal, sample_rate = librosa.load(path.replace(\"SAVEEE\", \"SaveeDataset/Augmented/{}\".format(AugmentType)))\n",
    "    mfcc = librosa.feature.mfcc(\n",
    "        y=signal, sr=SAMPLE_RATE, n_mfcc=num_mfcc, n_fft=n_fft, hop_length=hop_length)\n",
    "    mfcc = mfcc.T\n",
    "    train_data['labels'].append(value)\n",
    "    train_data[\"mfcc\"].append(np.asarray(mfcc))\n",
    "\n",
    "\n",
    "# for path, value in zip(test_data_sentiment_path, test_data_sentiment_encoded_value):\n",
    "#     signal, sample_rate = librosa.load(path)\n",
    "#     mfcc = librosa.feature.mfcc(\n",
    "#         y=signal, sr=SAMPLE_RATE, n_mfcc=num_mfcc, n_fft=n_fft, hop_length=hop_length)\n",
    "#     mfcc = mfcc.T\n",
    "    \n",
    "#     test_data['labels'].append(value)\n",
    "#     test_data[\"mfcc\"].append(np.asarray(mfcc))\n",
    "\n",
    "\n",
    "\n",
    "processed_data_value = np.asarray(train_data['mfcc'])\n",
    "processed_data_target = np.asarray(train_data[\"labels\"])\n",
    "# processed_test_value = np.asarray(test_data['mfcc'])\n",
    "# processed_test_target = np.asarray(test_data[\"labels\"])\n",
    "\n",
    "padded_data_value = tf.keras.preprocessing.sequence.pad_sequences(\n",
    "    processed_data_value, maxlen=308 ,dtype=\"float32\")\n",
    "# padded_test_value = tf.keras.preprocessing.sequence.pad_sequences(\n",
    "#     processed_test_value, maxlen=308 ,dtype=\"float32\")\n",
    "\n",
    "np.save('saved_dataset/saveeFix/standardSR_savee_dataWithTimeStretch_train.npy', padded_data_value)\n",
    "np.save('saved_dataset/saveeFix/standardSR_savee_dataWithTimeStretch_target.npy', processed_data_target)\n",
    "# np.save('saved_dataset/ravdessFix/ravdess_test.npy', padded_test_value)\n",
    "# np.save('saved_dataset/ravdessFix/ravdess_test_target.npy', processed_test_target)"
   ]
  },
  {
   "cell_type": "code",
   "execution_count": 6,
   "metadata": {},
   "outputs": [
    {
     "name": "stderr",
     "output_type": "stream",
     "text": [
      "C:\\Users\\USER\\AppData\\Local\\Temp\\ipykernel_3404\\2435135430.py:47: VisibleDeprecationWarning: Creating an ndarray from ragged nested sequences (which is a list-or-tuple of lists-or-tuples-or ndarrays with different lengths or shapes) is deprecated. If you meant to do this, you must specify 'dtype=object' when creating the ndarray.\n",
      "  processed_data_value = np.asarray(train_data['mfcc'])\n"
     ]
    }
   ],
   "source": [
    "num_mfcc = 40\n",
    "# SAMPLE_RATE = librosa.get_samplerate(train_data_sentiment_path[0])\n",
    "SAMPLE_RATE = 22050\n",
    "n_fft = 2048\n",
    "hop_length = 512\n",
    "\n",
    "\n",
    "train_data = {\n",
    "    \"labels\": [],\n",
    "    \"mfcc\": []\n",
    "}\n",
    "\n",
    "test_data = {\n",
    "    \"labels\": [],\n",
    "    \"mfcc\": []\n",
    "}\n",
    "\n",
    "for path, value in zip(train_data_sentiment_path, train_data_sentiment_encoded_value):\n",
    "    signal, sample_rate = librosa.load(path)\n",
    "    mfcc = librosa.feature.mfcc(\n",
    "        y=signal, sr=SAMPLE_RATE, n_mfcc=num_mfcc, n_fft=n_fft, hop_length=hop_length)\n",
    "    mfcc = mfcc.T\n",
    "    \n",
    "    train_data['labels'].append(value)\n",
    "    train_data[\"mfcc\"].append(np.asarray(mfcc))\n",
    "    # print(path)\n",
    "    AugmentType = \"AddGaussianNoise\"\n",
    "    signal, sample_rate = librosa.load(path.replace(\"SAVEEE\", \"SaveeDataset/Augmented/{}\".format(AugmentType)))\n",
    "    mfcc = librosa.feature.mfcc(\n",
    "        y=signal, sr=SAMPLE_RATE, n_mfcc=num_mfcc, n_fft=n_fft, hop_length=hop_length)\n",
    "    mfcc = mfcc.T\n",
    "    train_data['labels'].append(value)\n",
    "    train_data[\"mfcc\"].append(np.asarray(mfcc))\n",
    "\n",
    "\n",
    "# for path, value in zip(test_data_sentiment_path, test_data_sentiment_encoded_value):\n",
    "#     signal, sample_rate = librosa.load(path)\n",
    "#     mfcc = librosa.feature.mfcc(\n",
    "#         y=signal, sr=SAMPLE_RATE, n_mfcc=num_mfcc, n_fft=n_fft, hop_length=hop_length)\n",
    "#     mfcc = mfcc.T\n",
    "    \n",
    "#     test_data['labels'].append(value)\n",
    "#     test_data[\"mfcc\"].append(np.asarray(mfcc))\n",
    "\n",
    "\n",
    "\n",
    "processed_data_value = np.asarray(train_data['mfcc'])\n",
    "processed_data_target = np.asarray(train_data[\"labels\"])\n",
    "# processed_test_value = np.asarray(test_data['mfcc'])\n",
    "# processed_test_target = np.asarray(test_data[\"labels\"])\n",
    "\n",
    "padded_data_value = tf.keras.preprocessing.sequence.pad_sequences(\n",
    "    processed_data_value, maxlen=308 ,dtype=\"float32\")\n",
    "# padded_test_value = tf.keras.preprocessing.sequence.pad_sequences(\n",
    "#     processed_test_value, maxlen=308 ,dtype=\"float32\")\n",
    "\n",
    "np.save('saved_dataset/saveeFix/standardSR_savee_dataWithGaussianNoise_train.npy', padded_data_value)\n",
    "np.save('saved_dataset/saveeFix/standardSR_savee_dataWithGaussianNoise_target.npy', processed_data_target)\n",
    "# np.save('saved_dataset/ravdessFix/ravdess_test.npy', padded_test_value)\n",
    "# np.save('saved_dataset/ravdessFix/ravdess_test_target.npy', processed_test_target)"
   ]
  },
  {
   "cell_type": "code",
   "execution_count": 7,
   "metadata": {},
   "outputs": [
    {
     "name": "stderr",
     "output_type": "stream",
     "text": [
      "C:\\Users\\USER\\AppData\\Local\\Temp\\ipykernel_3404\\3474262168.py:47: VisibleDeprecationWarning: Creating an ndarray from ragged nested sequences (which is a list-or-tuple of lists-or-tuples-or ndarrays with different lengths or shapes) is deprecated. If you meant to do this, you must specify 'dtype=object' when creating the ndarray.\n",
      "  processed_data_value = np.asarray(train_data['mfcc'])\n"
     ]
    }
   ],
   "source": [
    "num_mfcc = 40\n",
    "# SAMPLE_RATE = librosa.get_samplerate(train_data_sentiment_path[0])\n",
    "SAMPLE_RATE = 22050\n",
    "n_fft = 2048\n",
    "hop_length = 512\n",
    "\n",
    "\n",
    "train_data = {\n",
    "    \"labels\": [],\n",
    "    \"mfcc\": []\n",
    "}\n",
    "\n",
    "test_data = {\n",
    "    \"labels\": [],\n",
    "    \"mfcc\": []\n",
    "}\n",
    "\n",
    "for path, value in zip(train_data_sentiment_path, train_data_sentiment_encoded_value):\n",
    "    signal, sample_rate = librosa.load(path)\n",
    "    mfcc = librosa.feature.mfcc(\n",
    "        y=signal, sr=SAMPLE_RATE, n_mfcc=num_mfcc, n_fft=n_fft, hop_length=hop_length)\n",
    "    mfcc = mfcc.T\n",
    "    \n",
    "    train_data['labels'].append(value)\n",
    "    train_data[\"mfcc\"].append(np.asarray(mfcc))\n",
    "    # print(path)\n",
    "    AugmentType = \"PitchShift\"\n",
    "    signal, sample_rate = librosa.load(path.replace(\"SAVEEE\", \"SaveeDataset/Augmented/{}\".format(AugmentType)))\n",
    "    mfcc = librosa.feature.mfcc(\n",
    "        y=signal, sr=SAMPLE_RATE, n_mfcc=num_mfcc, n_fft=n_fft, hop_length=hop_length)\n",
    "    mfcc = mfcc.T\n",
    "    train_data['labels'].append(value)\n",
    "    train_data[\"mfcc\"].append(np.asarray(mfcc))\n",
    "\n",
    "\n",
    "# for path, value in zip(test_data_sentiment_path, test_data_sentiment_encoded_value):\n",
    "#     signal, sample_rate = librosa.load(path)\n",
    "#     mfcc = librosa.feature.mfcc(\n",
    "#         y=signal, sr=SAMPLE_RATE, n_mfcc=num_mfcc, n_fft=n_fft, hop_length=hop_length)\n",
    "#     mfcc = mfcc.T\n",
    "    \n",
    "#     test_data['labels'].append(value)\n",
    "#     test_data[\"mfcc\"].append(np.asarray(mfcc))\n",
    "\n",
    "\n",
    "\n",
    "processed_data_value = np.asarray(train_data['mfcc'])\n",
    "processed_data_target = np.asarray(train_data[\"labels\"])\n",
    "# processed_test_value = np.asarray(test_data['mfcc'])\n",
    "# processed_test_target = np.asarray(test_data[\"labels\"])\n",
    "\n",
    "padded_data_value = tf.keras.preprocessing.sequence.pad_sequences(\n",
    "    processed_data_value, maxlen=308 ,dtype=\"float32\")\n",
    "# padded_test_value = tf.keras.preprocessing.sequence.pad_sequences(\n",
    "#     processed_test_value, maxlen=308 ,dtype=\"float32\")\n",
    "\n",
    "np.save('saved_dataset/saveeFix/standardSR_savee_dataWithPitchShift_train.npy', padded_data_value)\n",
    "np.save('saved_dataset/saveeFix/standardSR_savee_dataWithPitchShift_target.npy', processed_data_target)\n",
    "# np.save('saved_dataset/ravdessFix/ravdess_test.npy', padded_test_value)\n",
    "# np.save('saved_dataset/ravdessFix/ravdess_test_target.npy', processed_test_target)"
   ]
  },
  {
   "cell_type": "code",
   "execution_count": 10,
   "metadata": {},
   "outputs": [
    {
     "data": {
      "text/plain": [
       "328"
      ]
     },
     "execution_count": 10,
     "metadata": {},
     "output_type": "execute_result"
    }
   ],
   "source": [
    "len(train_files)\n",
    "# len(processed_data_value)"
   ]
  },
  {
   "cell_type": "code",
   "execution_count": 78,
   "metadata": {},
   "outputs": [],
   "source": [
    "state = random.getstate()"
   ]
  },
  {
   "cell_type": "code",
   "execution_count": 80,
   "metadata": {},
   "outputs": [],
   "source": [
    "import pickle\n",
    "# Save the random state to a file\n",
    "with open('random_state_savee.txt', 'w') as file:\n",
    "    file.write(str(state))\n",
    "\n",
    "# # Later, restore the random state from the file\n",
    "# with open('random_state.txt', 'r') as file:\n",
    "#     random_state = eval(file.read())\n",
    "\n",
    "#     # Set the restored random state\n",
    "# random.setstate(random_state)\n",
    "\n",
    "# # Generate some random numbers\n",
    "# random_numbers = [random.randint(1, 100) for _ in range(10)]\n",
    "\n",
    "# # Use the restored random numbers\n",
    "# print(random_numbers)\n"
   ]
  },
  {
   "cell_type": "code",
   "execution_count": 64,
   "metadata": {},
   "outputs": [
    {
     "data": {
      "text/plain": [
       "array([5, 5, 5, 0, 4, 1, 1, 1, 1, 1, 3, 3, 3, 3, 3, 3, 3, 3, 2, 2, 5, 5,\n",
       "       5, 5, 0, 0, 0, 4, 4, 4, 4, 1, 1, 1, 3, 3, 3, 3, 2, 2, 2, 2, 5, 5,\n",
       "       5, 5, 0, 0, 4, 4, 4, 4, 1, 1, 1, 3, 3, 3, 3, 3, 2, 2, 2, 5, 5, 5,\n",
       "       5, 5, 0, 0, 0, 0, 0, 4, 4, 1, 1, 1, 3, 3, 3, 3, 3, 3, 3, 3, 3, 3,\n",
       "       2, 2, 2, 2])"
      ]
     },
     "execution_count": 64,
     "metadata": {},
     "output_type": "execute_result"
    }
   ],
   "source": [
    "processed_test_target"
   ]
  },
  {
   "cell_type": "code",
   "execution_count": 65,
   "metadata": {},
   "outputs": [
    {
     "data": {
      "text/plain": [
       "array([5, 5, 5, 5, 5, 5, 5, 5, 5, 5, 5, 5, 0, 0, 0, 0, 0, 0, 0, 0, 0, 0,\n",
       "       0, 0, 0, 0, 4, 4, 4, 4, 4, 4, 4, 4, 4, 4, 4, 4, 4, 4, 1, 1, 1, 1,\n",
       "       1, 1, 1, 1, 1, 1, 3, 3, 3, 3, 3, 3, 3, 3, 3, 3, 3, 3, 3, 3, 3, 3,\n",
       "       3, 3, 3, 3, 3, 3, 2, 2, 2, 2, 2, 2, 2, 2, 2, 2, 2, 2, 2, 5, 5, 5,\n",
       "       5, 5, 5, 5, 5, 5, 5, 5, 0, 0, 0, 0, 0, 0, 0, 0, 0, 0, 0, 0, 4, 4,\n",
       "       4, 4, 4, 4, 4, 4, 4, 4, 4, 1, 1, 1, 1, 1, 1, 1, 1, 1, 1, 1, 1, 3,\n",
       "       3, 3, 3, 3, 3, 3, 3, 3, 3, 3, 3, 3, 3, 3, 3, 3, 3, 3, 3, 3, 3, 3,\n",
       "       3, 3, 3, 2, 2, 2, 2, 2, 2, 2, 2, 2, 2, 2, 5, 5, 5, 5, 5, 5, 5, 5,\n",
       "       5, 5, 5, 0, 0, 0, 0, 0, 0, 0, 0, 0, 0, 0, 0, 0, 4, 4, 4, 4, 4, 4,\n",
       "       4, 4, 4, 4, 4, 1, 1, 1, 1, 1, 1, 1, 1, 1, 1, 1, 1, 3, 3, 3, 3, 3,\n",
       "       3, 3, 3, 3, 3, 3, 3, 3, 3, 3, 3, 3, 3, 3, 3, 3, 3, 3, 3, 3, 2, 2,\n",
       "       2, 2, 2, 2, 2, 2, 2, 2, 2, 2, 5, 5, 5, 5, 5, 5, 5, 5, 5, 5, 0, 0,\n",
       "       0, 0, 0, 0, 0, 0, 0, 0, 4, 4, 4, 4, 4, 4, 4, 4, 4, 4, 4, 4, 4, 1,\n",
       "       1, 1, 1, 1, 1, 1, 1, 1, 1, 1, 1, 3, 3, 3, 3, 3, 3, 3, 3, 3, 3, 3,\n",
       "       3, 3, 3, 3, 3, 3, 3, 3, 3, 2, 2, 2, 2, 2, 2, 2, 2, 2, 2, 2])"
      ]
     },
     "execution_count": 65,
     "metadata": {},
     "output_type": "execute_result"
    }
   ],
   "source": [
    "processed_data_target"
   ]
  },
  {
   "cell_type": "code",
   "execution_count": 31,
   "metadata": {},
   "outputs": [],
   "source": [
    "import pandas as pd\n",
    "df = pd.DataFrame(processed_data_target)"
   ]
  },
  {
   "cell_type": "code",
   "execution_count": 73,
   "metadata": {},
   "outputs": [
    {
     "data": {
      "text/plain": [
       "3    93\n",
       "0    49\n",
       "4    49\n",
       "2    47\n",
       "1    46\n",
       "5    44\n",
       "dtype: int64"
      ]
     },
     "execution_count": 73,
     "metadata": {},
     "output_type": "execute_result"
    }
   ],
   "source": [
    "df.value_counts()"
   ]
  },
  {
   "cell_type": "code",
   "execution_count": 7,
   "metadata": {},
   "outputs": [
    {
     "data": {
      "text/plain": [
       "3    93\n",
       "0    49\n",
       "4    49\n",
       "2    47\n",
       "1    46\n",
       "5    44\n",
       "dtype: int64"
      ]
     },
     "execution_count": 7,
     "metadata": {},
     "output_type": "execute_result"
    }
   ],
   "source": [
    "df.value_counts()"
   ]
  },
  {
   "cell_type": "code",
   "execution_count": 3,
   "metadata": {},
   "outputs": [],
   "source": [
    "# print(len(processed_data_value))\n",
    "import pandas as pd\n",
    "labels = {'d': 0, 'h': 1, 's': 2,\n",
    "          'n': 3, 'f': 4, 'a': 5}\n",
    "train_data_value = np.load('saved_dataset/saveeFix/standardSR_savee_data.npy')\n",
    "train_data_target = np.load(\n",
    "    'saved_dataset/saveeFix/standardSR_savee_data_target.npy')\n",
    "test_data_value = np.load('saved_dataset/saveeFix/standardSR_savee_test.npy')\n",
    "test_data_target = np.load(\n",
    "    'saved_dataset/saveeFix/standardSR_savee_test_target.npy')\n",
    "df = pd.DataFrame(train_data_target)\n",
    "df2 = pd.DataFrame(test_data_target)\n",
    "\n"
   ]
  },
  {
   "cell_type": "code",
   "execution_count": 5,
   "metadata": {},
   "outputs": [
    {
     "data": {
      "text/plain": [
       "3    93\n",
       "0    49\n",
       "4    49\n",
       "2    47\n",
       "1    46\n",
       "5    44\n",
       "dtype: int64"
      ]
     },
     "execution_count": 5,
     "metadata": {},
     "output_type": "execute_result"
    }
   ],
   "source": [
    "df.value_counts()"
   ]
  },
  {
   "cell_type": "code",
   "execution_count": 6,
   "metadata": {},
   "outputs": [
    {
     "data": {
      "text/plain": [
       "3    27\n",
       "5    16\n",
       "1    14\n",
       "2    13\n",
       "0    11\n",
       "4    11\n",
       "dtype: int64"
      ]
     },
     "execution_count": 6,
     "metadata": {},
     "output_type": "execute_result"
    }
   ],
   "source": [
    "df2.value_counts()"
   ]
  },
  {
   "cell_type": "code",
   "execution_count": 18,
   "metadata": {},
   "outputs": [
    {
     "data": {
      "text/plain": [
       "615"
      ]
     },
     "execution_count": 18,
     "metadata": {},
     "output_type": "execute_result"
    }
   ],
   "source": [
    "len(max(processed_data_value, key=len))"
   ]
  },
  {
   "cell_type": "code",
   "execution_count": 34,
   "metadata": {},
   "outputs": [
    {
     "data": {
      "text/plain": [
       "260"
      ]
     },
     "execution_count": 34,
     "metadata": {},
     "output_type": "execute_result"
    }
   ],
   "source": [
    "len(max(processed_test_value, key=len))\n"
   ]
  },
  {
   "cell_type": "code",
   "execution_count": 23,
   "metadata": {},
   "outputs": [],
   "source": [
    "max_length = 0\n",
    "for x in processed_data_value:\n",
    "    if max_length > len(x):\n",
    "        pass\n",
    "    else:\n",
    "        max_length = len(x)"
   ]
  },
  {
   "cell_type": "code",
   "execution_count": 24,
   "metadata": {},
   "outputs": [
    {
     "data": {
      "text/plain": [
       "615"
      ]
     },
     "execution_count": 24,
     "metadata": {},
     "output_type": "execute_result"
    }
   ],
   "source": []
  },
  {
   "cell_type": "code",
   "execution_count": null,
   "metadata": {},
   "outputs": [],
   "source": []
  }
 ],
 "metadata": {
  "kernelspec": {
   "display_name": "venv",
   "language": "python",
   "name": "python3"
  },
  "language_info": {
   "codemirror_mode": {
    "name": "ipython",
    "version": 3
   },
   "file_extension": ".py",
   "mimetype": "text/x-python",
   "name": "python",
   "nbconvert_exporter": "python",
   "pygments_lexer": "ipython3",
   "version": "3.10.10"
  },
  "orig_nbformat": 4
 },
 "nbformat": 4,
 "nbformat_minor": 2
}
